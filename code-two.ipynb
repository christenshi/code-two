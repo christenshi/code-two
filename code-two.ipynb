{
 "cells": [
  {
   "cell_type": "code",
   "execution_count": 5,
   "id": "1f2add35",
   "metadata": {},
   "outputs": [
    {
     "name": "stdout",
     "output_type": "stream",
     "text": [
      "Enter the patient's temperature (in degrees Farenheit): 98.7\n"
     ]
    }
   ],
   "source": [
    "# input temperature\n",
    "temperature = input(\"Enter the patient's temperature (in degrees Farenheit): \")"
   ]
  },
  {
   "cell_type": "code",
   "execution_count": 7,
   "id": "cdd0755c",
   "metadata": {},
   "outputs": [
    {
     "name": "stdout",
     "output_type": "stream",
     "text": [
      "The patient has a high temperature.\n"
     ]
    }
   ],
   "source": [
    "# check temperature\n",
    "if temperature.replace(\".\", \"\", 1).isdigit():\n",
    "    temperature_input = float(temperature)\n",
    "    \n",
    "    if temperature_input >- 99.5:\n",
    "        print(\"The patient has a high temperature.\")\n",
    "    else:\n",
    "        print(\"The patient has a normal temperature.\")\n",
    "else:\n",
    "    print(\"Error: Please enter a valid temperature (numeric value).\")"
   ]
  },
  {
   "cell_type": "code",
   "execution_count": null,
   "id": "3f5087d5",
   "metadata": {},
   "outputs": [],
   "source": []
  }
 ],
 "metadata": {
  "kernelspec": {
   "display_name": "Python 3 (ipykernel)",
   "language": "python",
   "name": "python3"
  },
  "language_info": {
   "codemirror_mode": {
    "name": "ipython",
    "version": 3
   },
   "file_extension": ".py",
   "mimetype": "text/x-python",
   "name": "python",
   "nbconvert_exporter": "python",
   "pygments_lexer": "ipython3",
   "version": "3.11.4"
  }
 },
 "nbformat": 4,
 "nbformat_minor": 5
}
